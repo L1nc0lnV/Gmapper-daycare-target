{
 "cells": [
  {
   "cell_type": "code",
   "execution_count": 10,
   "source": [
    "import requests\r\n",
    "import gmaps\r\n",
    "import json\r\n",
    "\r\n",
    "API_KEY = '' # Enter your Google Maps API key here\r\n",
    "\r\n",
    "gmaps.configure(api_key = API_KEY) \r\n",
    "\r\n",
    "doodle_locations = ['7383 NY-96, Victor, NY 14564',\r\n",
    "                '705 Calkins Rd, Rochester, NY 14623',\r\n",
    "                '1825 S Clinton Ave, Brighton, NY 14620',\r\n",
    "                '2160 Fairport Nine Mile Point Rd, Fairport, NY 14450',\r\n",
    "                '979 Jackson Rd, Webster, NY 14580']\r\n",
    "\r\n",
    "target_locations = ['1050 Ridge Rd, Webster, NY 14580',\r\n",
    "                '2161 Fairport Nine Mile Point Rd, Fairport, NY 14450',\r\n",
    "                '7500 Commons Blvd, Victor, NY 14564',\r\n",
    "                '3181 Chili Ave, Rochester, NY 14624',\r\n",
    "                '2325 Marketplace Dr, Rochester, NY 14623']\r\n",
    "\r\n",
    "wegmans_locations = ['4287 Genesee Valley Plaza Rd, Geneseo, NY 14454',\r\n",
    "                '6600 Pittsford Palmyra Rd, Fairport, NY 14450',\r\n",
    "                '345 Eastern Blvd, Canandaigua, NY 14424',\r\n",
    "                '745 Calkins Rd, Rochester, NY 14623',\r\n",
    "                '3175 Chili Ave, Rochester, NY 14624',\r\n",
    "                '2157 Penfield Rd, Penfield, NY 14526',\r\n",
    "                '900 Holt Rd, Webster, NY 14580']\r\n",
    "\r\n",
    "def _get_geocode(addresses):\r\n",
    "    \"\"\" Return a series of geocoded objects based on address input \"\"\"\r\n",
    "    geo = []\r\n",
    "    for item in addresses:\r\n",
    "        geo.append(requests.get('https://maps.googleapis.com/maps/api/geocode/json?address=' + item + '&key=' + API_KEY).json())\r\n",
    "    return geo\r\n",
    "\r\n",
    "def _get_lat_long(geo):\r\n",
    "    \"\"\" Return specific latitude / longitude information for a series of geocoded objects \"\"\"\r\n",
    "    locs = []\r\n",
    "    for item in geo:\r\n",
    "        data = json.loads(json.dumps(item))\r\n",
    "        for response in data['results']:\r\n",
    "            location = response['geometry']['location']\r\n",
    "            coords = (location['lat'], location['lng'])\r\n",
    "            locs.append(coords)\r\n",
    "    return locs\r\n",
    "\r\n",
    "def _plot_polys(locations, stroke, fill):\r\n",
    "    \"\"\" Return a series of gmaps circle objects based on provided lat/long \"\"\"\r\n",
    "    polys = []   \r\n",
    "    for loc in locations:\r\n",
    "        polys.append(gmaps.Circle(center=loc, radius=22000, stroke_color=stroke, fill_color=fill))\r\n",
    "    return polys\r\n",
    "\r\n",
    "def _plot_markers(locations, stroke, fill):\r\n",
    "    \"\"\" Return a series of gmaps marker objects based on provided lat/long \"\"\"\r\n",
    "    marker_layer = gmaps.symbol_layer(locations,stroke_color=stroke, fill_color=fill)\r\n",
    "    return marker_layer\r\n",
    "\r\n",
    "\"\"\" Provide datato gmaps, assemble layers\"\"\"\r\n",
    "doodle_geo = _get_geocode(doodle_locations)\r\n",
    "target_geo = _get_geocode(target_locations)\r\n",
    "wegmans_geo = _get_geocode(wegmans_locations)\r\n",
    "\r\n",
    "doodle_latlong = _get_lat_long(doodle_geo)\r\n",
    "target_latlong = _get_lat_long(target_geo)\r\n",
    "wegmans_latlong = _get_lat_long(wegmans_geo)\r\n",
    "\r\n",
    "doodle_radii = gmaps.drawing_layer(_plot_polys(doodle_latlong,'blue','blue'))\r\n",
    "target_radii = gmaps.drawing_layer(_plot_polys(target_latlong,'red','red'))\r\n",
    "wegmans_radii = gmaps.drawing_layer(_plot_polys(wegmans_latlong,'green','green'))\r\n",
    "\r\n",
    "doodle_markers  = _plot_markers(doodle_latlong,'blue','blue')\r\n",
    "target_markers = _plot_markers(target_latlong,'red','red')\r\n",
    "wegmans_markers = _plot_markers(wegmans_latlong,'green','green')\r\n",
    "\r\n",
    "\"\"\" Render google map object \"\"\"\r\n",
    "fig = gmaps.figure()\r\n",
    "fig.add_layer(doodle_markers)\r\n",
    "fig.add_layer(target_markers)\r\n",
    "fig.add_layer(wegmans_markers)\r\n",
    "fig.add_layer(doodle_radii)\r\n",
    "fig.add_layer(target_radii)\r\n",
    "fig.add_layer(wegmans_radii)\r\n",
    "fig"
   ],
   "outputs": [
    {
     "output_type": "display_data",
     "data": {
      "application/vnd.jupyter.widget-view+json": {
       "version_major": 2,
       "version_minor": 0,
       "model_id": "67533d1ad46a46de87810c5042791d4d"
      },
      "text/plain": [
       "Figure(layout=FigureLayout(height='420px'))"
      ]
     },
     "metadata": {}
    }
   ],
   "metadata": {}
  }
 ],
 "metadata": {
  "orig_nbformat": 4,
  "language_info": {
   "name": "python",
   "version": "3.7.9",
   "mimetype": "text/x-python",
   "codemirror_mode": {
    "name": "ipython",
    "version": 3
   },
   "pygments_lexer": "ipython3",
   "nbconvert_exporter": "python",
   "file_extension": ".py"
  },
  "kernelspec": {
   "name": "python3",
   "display_name": "Python 3.7.9 64-bit ('venv': venv)"
  },
  "interpreter": {
   "hash": "26336d9325f4ab05ab5bde34cc817b6f78b914abc93becb83c47cac5a69b0ac4"
  }
 },
 "nbformat": 4,
 "nbformat_minor": 2
}